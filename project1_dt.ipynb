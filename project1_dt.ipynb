{
 "cells": [
  {
   "cell_type": "code",
   "execution_count": 1,
   "id": "397914ea",
   "metadata": {},
   "outputs": [],
   "source": [
    "import pandas as pd\n",
    "from pathlib import Path\n",
    "import matplotlib.pyplot as plt"
   ]
  },
  {
   "cell_type": "code",
   "execution_count": 2,
   "id": "9ded2743",
   "metadata": {},
   "outputs": [],
   "source": [
    "inflation_path = Path(\"InputFiles/InflationIndexAnnual.csv\")\n",
    "Median_Income_path = Path(\"InputFiles/MedianIncomeIndexAnnual.csv\")\n",
    "Median_Home_Price_path = Path(\"InputFiles/HomeSaleIndexAnnual.csv\")\n",
    "MedianIncomeDollars = Path(\"InputFiles/MedianIncomeDollars.csv\")\n",
    "MedianHomeDollars = Path(\"InputFiles/MedianHomeSalesDollars.csv\")"
   ]
  },
  {
   "cell_type": "code",
   "execution_count": 3,
   "id": "3a481aa7",
   "metadata": {},
   "outputs": [],
   "source": [
    "inflation = pd.read_csv(inflation_path)\n",
    "Median_Income = pd.read_csv(Median_Income_path)\n",
    "Median_Home_Price = pd.read_csv(Median_Home_Price_path)\n",
    "Median_Income_Dollars = pd.read_csv(MedianIncomeDollars)\n",
    "Median_HomeSales_Dollars = pd.read_csv(MedianHomeDollars)"
   ]
  },
  {
   "cell_type": "code",
   "execution_count": 4,
   "id": "c6742deb",
   "metadata": {},
   "outputs": [
    {
     "data": {
      "text/html": [
       "<div>\n",
       "<style scoped>\n",
       "    .dataframe tbody tr th:only-of-type {\n",
       "        vertical-align: middle;\n",
       "    }\n",
       "\n",
       "    .dataframe tbody tr th {\n",
       "        vertical-align: top;\n",
       "    }\n",
       "\n",
       "    .dataframe thead th {\n",
       "        text-align: right;\n",
       "    }\n",
       "</style>\n",
       "<table border=\"1\" class=\"dataframe\">\n",
       "  <thead>\n",
       "    <tr style=\"text-align: right;\">\n",
       "      <th></th>\n",
       "      <th>DATE</th>\n",
       "      <th>FPCPITOTLZGUSA_NBD19840101</th>\n",
       "    </tr>\n",
       "  </thead>\n",
       "  <tbody>\n",
       "    <tr>\n",
       "      <th>0</th>\n",
       "      <td>1960-01-01</td>\n",
       "      <td>33.90220</td>\n",
       "    </tr>\n",
       "    <tr>\n",
       "      <th>1</th>\n",
       "      <td>1961-01-01</td>\n",
       "      <td>24.89746</td>\n",
       "    </tr>\n",
       "    <tr>\n",
       "      <th>2</th>\n",
       "      <td>1962-01-01</td>\n",
       "      <td>27.87498</td>\n",
       "    </tr>\n",
       "    <tr>\n",
       "      <th>3</th>\n",
       "      <td>1963-01-01</td>\n",
       "      <td>28.82593</td>\n",
       "    </tr>\n",
       "    <tr>\n",
       "      <th>4</th>\n",
       "      <td>1964-01-01</td>\n",
       "      <td>29.73843</td>\n",
       "    </tr>\n",
       "  </tbody>\n",
       "</table>\n",
       "</div>"
      ],
      "text/plain": [
       "         DATE  FPCPITOTLZGUSA_NBD19840101\n",
       "0  1960-01-01                    33.90220\n",
       "1  1961-01-01                    24.89746\n",
       "2  1962-01-01                    27.87498\n",
       "3  1963-01-01                    28.82593\n",
       "4  1964-01-01                    29.73843"
      ]
     },
     "execution_count": 4,
     "metadata": {},
     "output_type": "execute_result"
    }
   ],
   "source": [
    "inflation.head()"
   ]
  },
  {
   "cell_type": "code",
   "execution_count": 5,
   "id": "cc6fc429",
   "metadata": {},
   "outputs": [
    {
     "data": {
      "text/html": [
       "<div>\n",
       "<style scoped>\n",
       "    .dataframe tbody tr th:only-of-type {\n",
       "        vertical-align: middle;\n",
       "    }\n",
       "\n",
       "    .dataframe tbody tr th {\n",
       "        vertical-align: top;\n",
       "    }\n",
       "\n",
       "    .dataframe thead th {\n",
       "        text-align: right;\n",
       "    }\n",
       "</style>\n",
       "<table border=\"1\" class=\"dataframe\">\n",
       "  <thead>\n",
       "    <tr style=\"text-align: right;\">\n",
       "      <th></th>\n",
       "      <th>DATE</th>\n",
       "      <th>MEHOINUSA646N_NBD19840101</th>\n",
       "    </tr>\n",
       "  </thead>\n",
       "  <tbody>\n",
       "    <tr>\n",
       "      <th>0</th>\n",
       "      <td>1984-01-01</td>\n",
       "      <td>100.00000</td>\n",
       "    </tr>\n",
       "    <tr>\n",
       "      <th>1</th>\n",
       "      <td>1985-01-01</td>\n",
       "      <td>105.36694</td>\n",
       "    </tr>\n",
       "    <tr>\n",
       "      <th>2</th>\n",
       "      <td>1986-01-01</td>\n",
       "      <td>111.07294</td>\n",
       "    </tr>\n",
       "    <tr>\n",
       "      <th>3</th>\n",
       "      <td>1987-01-01</td>\n",
       "      <td>116.26589</td>\n",
       "    </tr>\n",
       "    <tr>\n",
       "      <th>4</th>\n",
       "      <td>1988-01-01</td>\n",
       "      <td>121.45884</td>\n",
       "    </tr>\n",
       "  </tbody>\n",
       "</table>\n",
       "</div>"
      ],
      "text/plain": [
       "         DATE  MEHOINUSA646N_NBD19840101\n",
       "0  1984-01-01                  100.00000\n",
       "1  1985-01-01                  105.36694\n",
       "2  1986-01-01                  111.07294\n",
       "3  1987-01-01                  116.26589\n",
       "4  1988-01-01                  121.45884"
      ]
     },
     "execution_count": 5,
     "metadata": {},
     "output_type": "execute_result"
    }
   ],
   "source": [
    "Median_Income.head()"
   ]
  },
  {
   "cell_type": "code",
   "execution_count": 6,
   "id": "00635255",
   "metadata": {},
   "outputs": [
    {
     "data": {
      "text/html": [
       "<div>\n",
       "<style scoped>\n",
       "    .dataframe tbody tr th:only-of-type {\n",
       "        vertical-align: middle;\n",
       "    }\n",
       "\n",
       "    .dataframe tbody tr th {\n",
       "        vertical-align: top;\n",
       "    }\n",
       "\n",
       "    .dataframe thead th {\n",
       "        text-align: right;\n",
       "    }\n",
       "</style>\n",
       "<table border=\"1\" class=\"dataframe\">\n",
       "  <thead>\n",
       "    <tr style=\"text-align: right;\">\n",
       "      <th></th>\n",
       "      <th>DATE</th>\n",
       "      <th>MSPUS_NBD19840101</th>\n",
       "    </tr>\n",
       "  </thead>\n",
       "  <tbody>\n",
       "    <tr>\n",
       "      <th>0</th>\n",
       "      <td>1963-01-01</td>\n",
       "      <td>22.57661</td>\n",
       "    </tr>\n",
       "    <tr>\n",
       "      <th>1</th>\n",
       "      <td>1964-01-01</td>\n",
       "      <td>23.67104</td>\n",
       "    </tr>\n",
       "    <tr>\n",
       "      <th>2</th>\n",
       "      <td>1965-01-01</td>\n",
       "      <td>25.17198</td>\n",
       "    </tr>\n",
       "    <tr>\n",
       "      <th>3</th>\n",
       "      <td>1966-01-01</td>\n",
       "      <td>26.89181</td>\n",
       "    </tr>\n",
       "    <tr>\n",
       "      <th>4</th>\n",
       "      <td>1967-01-01</td>\n",
       "      <td>28.45528</td>\n",
       "    </tr>\n",
       "  </tbody>\n",
       "</table>\n",
       "</div>"
      ],
      "text/plain": [
       "         DATE MSPUS_NBD19840101\n",
       "0  1963-01-01          22.57661\n",
       "1  1964-01-01          23.67104\n",
       "2  1965-01-01          25.17198\n",
       "3  1966-01-01          26.89181\n",
       "4  1967-01-01          28.45528"
      ]
     },
     "execution_count": 6,
     "metadata": {},
     "output_type": "execute_result"
    }
   ],
   "source": [
    "Median_Home_Price.head()"
   ]
  },
  {
   "cell_type": "code",
   "execution_count": 7,
   "id": "e5724c45",
   "metadata": {},
   "outputs": [
    {
     "data": {
      "text/html": [
       "<div>\n",
       "<style scoped>\n",
       "    .dataframe tbody tr th:only-of-type {\n",
       "        vertical-align: middle;\n",
       "    }\n",
       "\n",
       "    .dataframe tbody tr th {\n",
       "        vertical-align: top;\n",
       "    }\n",
       "\n",
       "    .dataframe thead th {\n",
       "        text-align: right;\n",
       "    }\n",
       "</style>\n",
       "<table border=\"1\" class=\"dataframe\">\n",
       "  <thead>\n",
       "    <tr style=\"text-align: right;\">\n",
       "      <th></th>\n",
       "      <th>DATE</th>\n",
       "      <th>Median Income in Dollars</th>\n",
       "    </tr>\n",
       "  </thead>\n",
       "  <tbody>\n",
       "    <tr>\n",
       "      <th>0</th>\n",
       "      <td>1984-01-01</td>\n",
       "      <td>22415</td>\n",
       "    </tr>\n",
       "    <tr>\n",
       "      <th>1</th>\n",
       "      <td>1985-01-01</td>\n",
       "      <td>23618</td>\n",
       "    </tr>\n",
       "    <tr>\n",
       "      <th>2</th>\n",
       "      <td>1986-01-01</td>\n",
       "      <td>24897</td>\n",
       "    </tr>\n",
       "    <tr>\n",
       "      <th>3</th>\n",
       "      <td>1987-01-01</td>\n",
       "      <td>26061</td>\n",
       "    </tr>\n",
       "    <tr>\n",
       "      <th>4</th>\n",
       "      <td>1988-01-01</td>\n",
       "      <td>27225</td>\n",
       "    </tr>\n",
       "  </tbody>\n",
       "</table>\n",
       "</div>"
      ],
      "text/plain": [
       "         DATE  Median Income in Dollars\n",
       "0  1984-01-01                     22415\n",
       "1  1985-01-01                     23618\n",
       "2  1986-01-01                     24897\n",
       "3  1987-01-01                     26061\n",
       "4  1988-01-01                     27225"
      ]
     },
     "execution_count": 7,
     "metadata": {},
     "output_type": "execute_result"
    }
   ],
   "source": [
    "Median_Income_Dollars = Median_Income_Dollars.rename(columns = {\"MEHOINUSA646N\": \"Median Income in Dollars\"})\n",
    "Median_Income_Dollars.head()"
   ]
  },
  {
   "cell_type": "code",
   "execution_count": 8,
   "id": "3f43aa46",
   "metadata": {},
   "outputs": [
    {
     "name": "stdout",
     "output_type": "stream",
     "text": [
      "<class 'pandas.core.frame.DataFrame'>\n",
      "RangeIndex: 38 entries, 0 to 37\n",
      "Data columns (total 2 columns):\n",
      " #   Column                    Non-Null Count  Dtype         \n",
      "---  ------                    --------------  -----         \n",
      " 0   DATE                      38 non-null     datetime64[ns]\n",
      " 1   Median Income in Dollars  38 non-null     int64         \n",
      "dtypes: datetime64[ns](1), int64(1)\n",
      "memory usage: 736.0 bytes\n"
     ]
    }
   ],
   "source": [
    "data_type_dict1 = {\"DATE\": \"datetime64\", \"Median Income in Dollars\": \"int64\"} \n",
    "Median_Income_Dollars = Median_Income_Dollars.astype(data_type_dict1)\n",
    "Median_Income_Dollars.info()"
   ]
  },
  {
   "cell_type": "code",
   "execution_count": 9,
   "id": "f151ac33",
   "metadata": {},
   "outputs": [
    {
     "data": {
      "text/html": [
       "<div>\n",
       "<style scoped>\n",
       "    .dataframe tbody tr th:only-of-type {\n",
       "        vertical-align: middle;\n",
       "    }\n",
       "\n",
       "    .dataframe tbody tr th {\n",
       "        vertical-align: top;\n",
       "    }\n",
       "\n",
       "    .dataframe thead th {\n",
       "        text-align: right;\n",
       "    }\n",
       "</style>\n",
       "<table border=\"1\" class=\"dataframe\">\n",
       "  <thead>\n",
       "    <tr style=\"text-align: right;\">\n",
       "      <th></th>\n",
       "      <th>DATE</th>\n",
       "      <th>MSPUS</th>\n",
       "    </tr>\n",
       "  </thead>\n",
       "  <tbody>\n",
       "    <tr>\n",
       "      <th>55</th>\n",
       "      <td>2018-01-01</td>\n",
       "      <td>325275.000000000000</td>\n",
       "    </tr>\n",
       "    <tr>\n",
       "      <th>56</th>\n",
       "      <td>2019-01-01</td>\n",
       "      <td>320250.000000000000</td>\n",
       "    </tr>\n",
       "    <tr>\n",
       "      <th>57</th>\n",
       "      <td>2020-01-01</td>\n",
       "      <td>336950.000000000000</td>\n",
       "    </tr>\n",
       "    <tr>\n",
       "      <th>58</th>\n",
       "      <td>2021-01-01</td>\n",
       "      <td>396800.000000000000</td>\n",
       "    </tr>\n",
       "    <tr>\n",
       "      <th>59</th>\n",
       "      <td>2022-01-01</td>\n",
       "      <td>457475.000000000000</td>\n",
       "    </tr>\n",
       "  </tbody>\n",
       "</table>\n",
       "</div>"
      ],
      "text/plain": [
       "          DATE                MSPUS\n",
       "55  2018-01-01  325275.000000000000\n",
       "56  2019-01-01  320250.000000000000\n",
       "57  2020-01-01  336950.000000000000\n",
       "58  2021-01-01  396800.000000000000\n",
       "59  2022-01-01  457475.000000000000"
      ]
     },
     "execution_count": 9,
     "metadata": {},
     "output_type": "execute_result"
    }
   ],
   "source": [
    "Median_HomeSales_Dollars = Median_HomeSales_Dollars.loc[Median_HomeSales_Dollars[\"DATE\"] < \"2022-01-02\"]\n",
    "Median_HomeSales_Dollars.tail()"
   ]
  },
  {
   "cell_type": "code",
   "execution_count": 10,
   "id": "c0c0009c",
   "metadata": {},
   "outputs": [
    {
     "name": "stdout",
     "output_type": "stream",
     "text": [
      "<class 'pandas.core.frame.DataFrame'>\n",
      "Int64Index: 60 entries, 0 to 59\n",
      "Data columns (total 2 columns):\n",
      " #   Column  Non-Null Count  Dtype         \n",
      "---  ------  --------------  -----         \n",
      " 0   DATE    60 non-null     datetime64[ns]\n",
      " 1   MSPUS   60 non-null     float64       \n",
      "dtypes: datetime64[ns](1), float64(1)\n",
      "memory usage: 1.4 KB\n"
     ]
    }
   ],
   "source": [
    "data_type_dict0 = {\"DATE\": \"datetime64\", \"MSPUS\": \"float\"} \n",
    "Median_HomeSales_Dollars = Median_HomeSales_Dollars.astype(data_type_dict0)\n",
    "Median_HomeSales_Dollars.info()"
   ]
  },
  {
   "cell_type": "code",
   "execution_count": 11,
   "id": "66d04604",
   "metadata": {},
   "outputs": [
    {
     "data": {
      "text/html": [
       "<div>\n",
       "<style scoped>\n",
       "    .dataframe tbody tr th:only-of-type {\n",
       "        vertical-align: middle;\n",
       "    }\n",
       "\n",
       "    .dataframe tbody tr th {\n",
       "        vertical-align: top;\n",
       "    }\n",
       "\n",
       "    .dataframe thead th {\n",
       "        text-align: right;\n",
       "    }\n",
       "</style>\n",
       "<table border=\"1\" class=\"dataframe\">\n",
       "  <thead>\n",
       "    <tr style=\"text-align: right;\">\n",
       "      <th></th>\n",
       "      <th>DATE</th>\n",
       "      <th>Median Home Sales in Dollars</th>\n",
       "    </tr>\n",
       "  </thead>\n",
       "  <tbody>\n",
       "    <tr>\n",
       "      <th>21</th>\n",
       "      <td>1984-01-01</td>\n",
       "      <td>79950.0</td>\n",
       "    </tr>\n",
       "    <tr>\n",
       "      <th>22</th>\n",
       "      <td>1985-01-01</td>\n",
       "      <td>84275.0</td>\n",
       "    </tr>\n",
       "    <tr>\n",
       "      <th>23</th>\n",
       "      <td>1986-01-01</td>\n",
       "      <td>92025.0</td>\n",
       "    </tr>\n",
       "    <tr>\n",
       "      <th>24</th>\n",
       "      <td>1987-01-01</td>\n",
       "      <td>104700.0</td>\n",
       "    </tr>\n",
       "    <tr>\n",
       "      <th>25</th>\n",
       "      <td>1988-01-01</td>\n",
       "      <td>112225.0</td>\n",
       "    </tr>\n",
       "  </tbody>\n",
       "</table>\n",
       "</div>"
      ],
      "text/plain": [
       "         DATE  Median Home Sales in Dollars\n",
       "21 1984-01-01                       79950.0\n",
       "22 1985-01-01                       84275.0\n",
       "23 1986-01-01                       92025.0\n",
       "24 1987-01-01                      104700.0\n",
       "25 1988-01-01                      112225.0"
      ]
     },
     "execution_count": 11,
     "metadata": {},
     "output_type": "execute_result"
    }
   ],
   "source": [
    "Median_HomeSales_Dollars = Median_HomeSales_Dollars.rename(columns = {\"MSPUS\": \"Median Home Sales in Dollars\"})\n",
    "Median_HomeSales_Dollars = Median_HomeSales_Dollars.loc[Median_HomeSales_Dollars[\"DATE\"] > \"1983-01-01\"]\n",
    "Median_HomeSales_Dollars[\"Median Home Sales in Dollars\"] = Median_HomeSales_Dollars[\"Median Home Sales in Dollars\"].round(2)\n",
    "Median_HomeSales_Dollars.head()"
   ]
  },
  {
   "cell_type": "code",
   "execution_count": 12,
   "id": "ea843e55",
   "metadata": {},
   "outputs": [
    {
     "data": {
      "text/html": [
       "<div>\n",
       "<style scoped>\n",
       "    .dataframe tbody tr th:only-of-type {\n",
       "        vertical-align: middle;\n",
       "    }\n",
       "\n",
       "    .dataframe tbody tr th {\n",
       "        vertical-align: top;\n",
       "    }\n",
       "\n",
       "    .dataframe thead th {\n",
       "        text-align: right;\n",
       "    }\n",
       "</style>\n",
       "<table border=\"1\" class=\"dataframe\">\n",
       "  <thead>\n",
       "    <tr style=\"text-align: right;\">\n",
       "      <th></th>\n",
       "      <th>DATE</th>\n",
       "      <th>MEHOINUSA646N_NBD19840101</th>\n",
       "      <th>MSPUS_NBD19840101</th>\n",
       "    </tr>\n",
       "  </thead>\n",
       "  <tbody>\n",
       "    <tr>\n",
       "      <th>0</th>\n",
       "      <td>1984-01-01</td>\n",
       "      <td>100.00000</td>\n",
       "      <td>100.00000</td>\n",
       "    </tr>\n",
       "    <tr>\n",
       "      <th>1</th>\n",
       "      <td>1985-01-01</td>\n",
       "      <td>105.36694</td>\n",
       "      <td>105.40963</td>\n",
       "    </tr>\n",
       "    <tr>\n",
       "      <th>2</th>\n",
       "      <td>1986-01-01</td>\n",
       "      <td>111.07294</td>\n",
       "      <td>115.10319</td>\n",
       "    </tr>\n",
       "    <tr>\n",
       "      <th>3</th>\n",
       "      <td>1987-01-01</td>\n",
       "      <td>116.26589</td>\n",
       "      <td>130.95685</td>\n",
       "    </tr>\n",
       "    <tr>\n",
       "      <th>4</th>\n",
       "      <td>1988-01-01</td>\n",
       "      <td>121.45884</td>\n",
       "      <td>140.36898</td>\n",
       "    </tr>\n",
       "  </tbody>\n",
       "</table>\n",
       "</div>"
      ],
      "text/plain": [
       "         DATE  MEHOINUSA646N_NBD19840101 MSPUS_NBD19840101\n",
       "0  1984-01-01                  100.00000         100.00000\n",
       "1  1985-01-01                  105.36694         105.40963\n",
       "2  1986-01-01                  111.07294         115.10319\n",
       "3  1987-01-01                  116.26589         130.95685\n",
       "4  1988-01-01                  121.45884         140.36898"
      ]
     },
     "execution_count": 12,
     "metadata": {},
     "output_type": "execute_result"
    }
   ],
   "source": [
    "transition_data_df = pd.merge(Median_Income, Median_Home_Price, how=\"left\", on=\"DATE\" )\n",
    "transition_data_df.head()"
   ]
  },
  {
   "cell_type": "code",
   "execution_count": 13,
   "id": "dea2d765",
   "metadata": {},
   "outputs": [
    {
     "data": {
      "text/html": [
       "<div>\n",
       "<style scoped>\n",
       "    .dataframe tbody tr th:only-of-type {\n",
       "        vertical-align: middle;\n",
       "    }\n",
       "\n",
       "    .dataframe tbody tr th {\n",
       "        vertical-align: top;\n",
       "    }\n",
       "\n",
       "    .dataframe thead th {\n",
       "        text-align: right;\n",
       "    }\n",
       "</style>\n",
       "<table border=\"1\" class=\"dataframe\">\n",
       "  <thead>\n",
       "    <tr style=\"text-align: right;\">\n",
       "      <th></th>\n",
       "      <th>DATE</th>\n",
       "      <th>MEHOINUSA646N_NBD19840101</th>\n",
       "      <th>MSPUS_NBD19840101</th>\n",
       "      <th>FPCPITOTLZGUSA_NBD19840101</th>\n",
       "    </tr>\n",
       "  </thead>\n",
       "  <tbody>\n",
       "    <tr>\n",
       "      <th>0</th>\n",
       "      <td>1984-01-01</td>\n",
       "      <td>100.00000</td>\n",
       "      <td>100.00000</td>\n",
       "      <td>100.00000</td>\n",
       "    </tr>\n",
       "    <tr>\n",
       "      <th>1</th>\n",
       "      <td>1985-01-01</td>\n",
       "      <td>105.36694</td>\n",
       "      <td>105.40963</td>\n",
       "      <td>82.44657</td>\n",
       "    </tr>\n",
       "    <tr>\n",
       "      <th>2</th>\n",
       "      <td>1986-01-01</td>\n",
       "      <td>111.07294</td>\n",
       "      <td>115.10319</td>\n",
       "      <td>44.13515</td>\n",
       "    </tr>\n",
       "    <tr>\n",
       "      <th>3</th>\n",
       "      <td>1987-01-01</td>\n",
       "      <td>116.26589</td>\n",
       "      <td>130.95685</td>\n",
       "      <td>85.21179</td>\n",
       "    </tr>\n",
       "    <tr>\n",
       "      <th>4</th>\n",
       "      <td>1988-01-01</td>\n",
       "      <td>121.45884</td>\n",
       "      <td>140.36898</td>\n",
       "      <td>94.81938</td>\n",
       "    </tr>\n",
       "  </tbody>\n",
       "</table>\n",
       "</div>"
      ],
      "text/plain": [
       "         DATE  MEHOINUSA646N_NBD19840101 MSPUS_NBD19840101  \\\n",
       "0  1984-01-01                  100.00000         100.00000   \n",
       "1  1985-01-01                  105.36694         105.40963   \n",
       "2  1986-01-01                  111.07294         115.10319   \n",
       "3  1987-01-01                  116.26589         130.95685   \n",
       "4  1988-01-01                  121.45884         140.36898   \n",
       "\n",
       "   FPCPITOTLZGUSA_NBD19840101  \n",
       "0                   100.00000  \n",
       "1                    82.44657  \n",
       "2                    44.13515  \n",
       "3                    85.21179  \n",
       "4                    94.81938  "
      ]
     },
     "execution_count": 13,
     "metadata": {},
     "output_type": "execute_result"
    }
   ],
   "source": [
    "threemerge_data_df = pd.merge(transition_data_df, inflation, how=\"left\", on=\"DATE\")\n",
    "threemerge_data_df.head()"
   ]
  },
  {
   "cell_type": "code",
   "execution_count": 14,
   "id": "64ed3473",
   "metadata": {},
   "outputs": [
    {
     "data": {
      "text/html": [
       "<div>\n",
       "<style scoped>\n",
       "    .dataframe tbody tr th:only-of-type {\n",
       "        vertical-align: middle;\n",
       "    }\n",
       "\n",
       "    .dataframe tbody tr th {\n",
       "        vertical-align: top;\n",
       "    }\n",
       "\n",
       "    .dataframe thead th {\n",
       "        text-align: right;\n",
       "    }\n",
       "</style>\n",
       "<table border=\"1\" class=\"dataframe\">\n",
       "  <thead>\n",
       "    <tr style=\"text-align: right;\">\n",
       "      <th></th>\n",
       "      <th>DATE</th>\n",
       "      <th>Median_Household_Income</th>\n",
       "      <th>Median_Home_Sale_Price</th>\n",
       "      <th>Consumer_Price_Inflation</th>\n",
       "    </tr>\n",
       "  </thead>\n",
       "  <tbody>\n",
       "    <tr>\n",
       "      <th>0</th>\n",
       "      <td>1984-01-01</td>\n",
       "      <td>100.00000</td>\n",
       "      <td>100.00000</td>\n",
       "      <td>100.00000</td>\n",
       "    </tr>\n",
       "    <tr>\n",
       "      <th>1</th>\n",
       "      <td>1985-01-01</td>\n",
       "      <td>105.36694</td>\n",
       "      <td>105.40963</td>\n",
       "      <td>82.44657</td>\n",
       "    </tr>\n",
       "    <tr>\n",
       "      <th>2</th>\n",
       "      <td>1986-01-01</td>\n",
       "      <td>111.07294</td>\n",
       "      <td>115.10319</td>\n",
       "      <td>44.13515</td>\n",
       "    </tr>\n",
       "    <tr>\n",
       "      <th>3</th>\n",
       "      <td>1987-01-01</td>\n",
       "      <td>116.26589</td>\n",
       "      <td>130.95685</td>\n",
       "      <td>85.21179</td>\n",
       "    </tr>\n",
       "    <tr>\n",
       "      <th>4</th>\n",
       "      <td>1988-01-01</td>\n",
       "      <td>121.45884</td>\n",
       "      <td>140.36898</td>\n",
       "      <td>94.81938</td>\n",
       "    </tr>\n",
       "  </tbody>\n",
       "</table>\n",
       "</div>"
      ],
      "text/plain": [
       "         DATE  Median_Household_Income Median_Home_Sale_Price  \\\n",
       "0  1984-01-01                100.00000              100.00000   \n",
       "1  1985-01-01                105.36694              105.40963   \n",
       "2  1986-01-01                111.07294              115.10319   \n",
       "3  1987-01-01                116.26589              130.95685   \n",
       "4  1988-01-01                121.45884              140.36898   \n",
       "\n",
       "   Consumer_Price_Inflation  \n",
       "0                 100.00000  \n",
       "1                  82.44657  \n",
       "2                  44.13515  \n",
       "3                  85.21179  \n",
       "4                  94.81938  "
      ]
     },
     "execution_count": 14,
     "metadata": {},
     "output_type": "execute_result"
    }
   ],
   "source": [
    "final_data_df = threemerge_data_df.rename(columns = {\"MEHOINUSA646N_NBD19840101\": \"Median_Household_Income\", \"MSPUS_NBD19840101\": \"Median_Home_Sale_Price\",\n",
    "                                                    \"FPCPITOTLZGUSA_NBD19840101\": \"Consumer_Price_Inflation\"})\n",
    "final_data_df.head()"
   ]
  },
  {
   "cell_type": "code",
   "execution_count": 15,
   "id": "d578d0b6",
   "metadata": {},
   "outputs": [
    {
     "name": "stdout",
     "output_type": "stream",
     "text": [
      "<class 'pandas.core.frame.DataFrame'>\n",
      "Int64Index: 38 entries, 0 to 37\n",
      "Data columns (total 4 columns):\n",
      " #   Column                    Non-Null Count  Dtype  \n",
      "---  ------                    --------------  -----  \n",
      " 0   DATE                      38 non-null     object \n",
      " 1   Median_Household_Income   38 non-null     float64\n",
      " 2   Median_Home_Sale_Price    38 non-null     object \n",
      " 3   Consumer_Price_Inflation  38 non-null     float64\n",
      "dtypes: float64(2), object(2)\n",
      "memory usage: 1.5+ KB\n"
     ]
    }
   ],
   "source": [
    "final_data_df.info()"
   ]
  },
  {
   "cell_type": "code",
   "execution_count": 16,
   "id": "04507797",
   "metadata": {},
   "outputs": [
    {
     "name": "stdout",
     "output_type": "stream",
     "text": [
      "<class 'pandas.core.frame.DataFrame'>\n",
      "Int64Index: 38 entries, 0 to 37\n",
      "Data columns (total 4 columns):\n",
      " #   Column                    Non-Null Count  Dtype         \n",
      "---  ------                    --------------  -----         \n",
      " 0   DATE                      38 non-null     datetime64[ns]\n",
      " 1   Median_Household_Income   38 non-null     float64       \n",
      " 2   Median_Home_Sale_Price    38 non-null     float64       \n",
      " 3   Consumer_Price_Inflation  38 non-null     float64       \n",
      "dtypes: datetime64[ns](1), float64(3)\n",
      "memory usage: 1.5 KB\n"
     ]
    }
   ],
   "source": [
    "data_type_dict = {\"DATE\": \"datetime64\", \"Median_Home_Sale_Price\": \"float64\", \"Consumer_Price_Inflation\": \"float64\"} \n",
    "final_data2_df = final_data_df.astype(data_type_dict)\n",
    "final_data2_df.info()"
   ]
  },
  {
   "cell_type": "code",
   "execution_count": 17,
   "id": "1dc6ef2e",
   "metadata": {},
   "outputs": [
    {
     "data": {
      "text/html": [
       "<div>\n",
       "<style scoped>\n",
       "    .dataframe tbody tr th:only-of-type {\n",
       "        vertical-align: middle;\n",
       "    }\n",
       "\n",
       "    .dataframe tbody tr th {\n",
       "        vertical-align: top;\n",
       "    }\n",
       "\n",
       "    .dataframe thead th {\n",
       "        text-align: right;\n",
       "    }\n",
       "</style>\n",
       "<table border=\"1\" class=\"dataframe\">\n",
       "  <thead>\n",
       "    <tr style=\"text-align: right;\">\n",
       "      <th></th>\n",
       "      <th>DATE</th>\n",
       "      <th>Median_Household_Income</th>\n",
       "      <th>Median_Home_Sale_Price</th>\n",
       "      <th>Consumer_Price_Inflation</th>\n",
       "    </tr>\n",
       "  </thead>\n",
       "  <tbody>\n",
       "    <tr>\n",
       "      <th>0</th>\n",
       "      <td>1984-01-01</td>\n",
       "      <td>100.00</td>\n",
       "      <td>100.00</td>\n",
       "      <td>100.00</td>\n",
       "    </tr>\n",
       "    <tr>\n",
       "      <th>1</th>\n",
       "      <td>1985-01-01</td>\n",
       "      <td>105.37</td>\n",
       "      <td>105.41</td>\n",
       "      <td>82.45</td>\n",
       "    </tr>\n",
       "    <tr>\n",
       "      <th>2</th>\n",
       "      <td>1986-01-01</td>\n",
       "      <td>111.07</td>\n",
       "      <td>115.10</td>\n",
       "      <td>44.14</td>\n",
       "    </tr>\n",
       "    <tr>\n",
       "      <th>3</th>\n",
       "      <td>1987-01-01</td>\n",
       "      <td>116.27</td>\n",
       "      <td>130.96</td>\n",
       "      <td>85.21</td>\n",
       "    </tr>\n",
       "    <tr>\n",
       "      <th>4</th>\n",
       "      <td>1988-01-01</td>\n",
       "      <td>121.46</td>\n",
       "      <td>140.37</td>\n",
       "      <td>94.82</td>\n",
       "    </tr>\n",
       "  </tbody>\n",
       "</table>\n",
       "</div>"
      ],
      "text/plain": [
       "        DATE  Median_Household_Income  Median_Home_Sale_Price  \\\n",
       "0 1984-01-01                   100.00                  100.00   \n",
       "1 1985-01-01                   105.37                  105.41   \n",
       "2 1986-01-01                   111.07                  115.10   \n",
       "3 1987-01-01                   116.27                  130.96   \n",
       "4 1988-01-01                   121.46                  140.37   \n",
       "\n",
       "   Consumer_Price_Inflation  \n",
       "0                    100.00  \n",
       "1                     82.45  \n",
       "2                     44.14  \n",
       "3                     85.21  \n",
       "4                     94.82  "
      ]
     },
     "execution_count": 17,
     "metadata": {},
     "output_type": "execute_result"
    }
   ],
   "source": [
    "final_data2_df[\"Consumer_Price_Inflation\"] = final_data2_df[\"Consumer_Price_Inflation\"].round(2)\n",
    "final_data2_df[\"Median_Home_Sale_Price\"] = final_data2_df[\"Median_Home_Sale_Price\"].round(2)\n",
    "final_data2_df[\"Median_Household_Income\"] = final_data2_df[\"Median_Household_Income\"].round(2)\n",
    "final_data2_df.head()"
   ]
  },
  {
   "cell_type": "code",
   "execution_count": 18,
   "id": "ea85880b",
   "metadata": {},
   "outputs": [
    {
     "data": {
      "image/png": "[encoded data removed]",
      "text/plain": [
       "<Figure size 640x480 with 1 Axes>"
      ]
     },
     "metadata": {},
     "output_type": "display_data"
    }
   ],
   "source": [
    "x_axis_data = Median_HomeSales_Dollars[\"DATE\"]\n",
    "y_axis_data = Median_HomeSales_Dollars[\"Median Home Sales in Dollars\"]\n",
    "plt.plot(x_axis_data, y_axis_data)\n",
    "plt.xlabel(\"Years\")\n",
    "plt.ylabel(\"Median Home Sale Price in Dollars\")\n",
    "plt.grid()\n",
    "plt.savefig(\"Images/MedianHomeSalePrice_dt.png\")\n",
    "plt.show()"
   ]
  },
  {
   "cell_type": "code",
   "execution_count": 19,
   "id": "3e027884",
   "metadata": {},
   "outputs": [
    {
     "data": {
      "image/png": "[encoded data removed]",
      "text/plain": [
       "<Figure size 640x480 with 1 Axes>"
      ]
     },
     "metadata": {},
     "output_type": "display_data"
    }
   ],
   "source": [
    "x_axis_data = Median_Income_Dollars[\"DATE\"]\n",
    "y_axis_data = Median_Income_Dollars[\"Median Income in Dollars\"]\n",
    "plt.plot(x_axis_data, y_axis_data)\n",
    "plt.xlabel(\"Years\")\n",
    "plt.ylabel(\"Median Household Income in Dollars\")\n",
    "plt.grid()\n",
    "plt.savefig(\"Images/MedianHouseHoldIncome_dt.png\")\n",
    "plt.show()"
   ]
  },
  {
   "cell_type": "code",
   "execution_count": 20,
   "id": "507a6033",
   "metadata": {},
   "outputs": [
    {
     "data": {
      "image/png": "[encoded data removed]",
      "text/plain": [
       "<Figure size 640x480 with 1 Axes>"
      ]
     },
     "metadata": {},
     "output_type": "display_data"
    }
   ],
   "source": [
    "x_axis_data = final_data2_df[\"DATE\"]\n",
    "y_axis_data = final_data2_df[\"Consumer_Price_Inflation\"]\n",
    "plt.plot(x_axis_data, y_axis_data)\n",
    "plt.grid()\n",
    "plt.xlabel(\"Years\")\n",
    "plt.ylabel(\"Consumer Price Inflation\")\n",
    "plt.savefig(\"Images/ConsumerPriceInflation_dt.png\")\n",
    "plt.show()"
   ]
  },
  {
   "cell_type": "code",
   "execution_count": 21,
   "id": "564060da",
   "metadata": {},
   "outputs": [
    {
     "data": {
      "image/png": "[encoded data removed]",
      "text/plain": [
       "<Figure size 640x480 with 1 Axes>"
      ]
     },
     "metadata": {},
     "output_type": "display_data"
    }
   ],
   "source": [
    "Date = final_data2_df[\"DATE\"]\n",
    "InflationAxis = final_data2_df[\"Consumer_Price_Inflation\"]\n",
    "MedianIncomeAxis = final_data2_df[\"Median_Household_Income\"]\n",
    "MedianHomeAxis = final_data2_df[\"Median_Home_Sale_Price\"]\n",
    "\n",
    "plt.plot(Date, InflationAxis, color = \"green\", label = \"Consumer_Price_Inflation\")\n",
    "plt.plot(Date, MedianIncomeAxis, color = \"blue\", label = \"Median Income\")\n",
    "plt.plot(Date, MedianHomeAxis, color = \"red\", label = \"Median Home Sale Price\")\n",
    "plt.title(\"Home Sale Prices, Median Income and Inflation over time\")\n",
    "plt.xlabel(\"Years\")\n",
    "plt.ylabel(\"Index Values\")\n",
    "plt.legend(loc = \"best\")\n",
    "plt.grid()\n",
    "plt.savefig(\"Images/FinalCompare_dt.png\")\n",
    "plt.show()"
   ]
  },
  {
   "cell_type": "code",
   "execution_count": null,
   "id": "4d5bd581",
   "metadata": {},
   "outputs": [],
   "source": []
  }
 ],
 "metadata": {
  "kernelspec": {
   "display_name": "Python 3 (ipykernel)",
   "language": "python",
   "name": "python3"
  },
  "language_info": {
   "codemirror_mode": {
    "name": "ipython",
    "version": 3
   },
   "file_extension": ".py",
   "mimetype": "text/x-python",
   "name": "python",
   "nbconvert_exporter": "python",
   "pygments_lexer": "ipython3",
   "version": "3.10.12"
  }
 },
 "nbformat": 4,
 "nbformat_minor": 5
}
